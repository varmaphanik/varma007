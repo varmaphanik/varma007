{
 "cells": [
  {
   "cell_type": "code",
   "execution_count": 4,
   "metadata": {},
   "outputs": [
    {
     "name": "stdout",
     "output_type": "stream",
     "text": [
      "enter a year2020\n",
      "leap year\n"
     ]
    }
   ],
   "source": [
    "#check if a year is leap year or not\n",
    "y=int(input(\"enter a year\"))\n",
    "if y%4==0:\n",
    "    print(\"leap year\")\n",
    "else:\n",
    "    print(\"not a leap year\")"
   ]
  },
  {
   "cell_type": "code",
   "execution_count": 7,
   "metadata": {
    "scrolled": true
   },
   "outputs": [
    {
     "name": "stdout",
     "output_type": "stream",
     "text": [
      "enter a number2\n",
      "enter a number5\n",
      "enter a number8\n",
      "8 is largest number\n"
     ]
    }
   ],
   "source": [
    "# find large number from given numbers\n",
    "a1 = int(input(\"enter a number\"))\n",
    "a2 = int(input(\"enter a number\"))\n",
    "a3 = int(input(\"enter a number\"))\n",
    "if a1>a2 and a1>a3:\n",
    "    print(a1,\"is largest number\")\n",
    "elif a2>a1 and a2>a3:\n",
    "    print(a1,\"is largest number\")\n",
    "else:\n",
    "    print(a3,\"is largest number\")\n",
    "    "
   ]
  },
  {
   "cell_type": "code",
   "execution_count": 8,
   "metadata": {},
   "outputs": [
    {
     "name": "stdout",
     "output_type": "stream",
     "text": [
      "gitam\n",
      "gitam\n",
      "gitam\n",
      "gitam\n"
     ]
    }
   ],
   "source": [
    "# Need print \"GITAM\" for 4 times\n",
    "print(\"gitam\")\n",
    "print(\"gitam\")\n",
    "print(\"gitam\")\n",
    "print(\"gitam\")"
   ]
  },
  {
   "cell_type": "code",
   "execution_count": 9,
   "metadata": {},
   "outputs": [
    {
     "name": "stdout",
     "output_type": "stream",
     "text": [
      "gitam\n",
      "gitam\n",
      "gitam\n",
      "gitam\n",
      "gitam\n"
     ]
    }
   ],
   "source": [
    "x = 0\n",
    "while x < 5 : \n",
    "    print(\"gitam\")\n",
    "    x = x + 1"
   ]
  },
  {
   "cell_type": "code",
   "execution_count": 11,
   "metadata": {},
   "outputs": [
    {
     "name": "stdout",
     "output_type": "stream",
     "text": [
      "enter a number7\n",
      "1 2 3 4 5 6 7 "
     ]
    }
   ],
   "source": [
    "# print n natural numbers using while loop\n",
    "# input - 10\n",
    "# output - 123....10\n",
    "n = int(input(\"enter a number\"))\n",
    "i = 1\n",
    "while i <= n :\n",
    "    print(i,end = \" \")\n",
    "    i = i + 1"
   ]
  },
  {
   "cell_type": "code",
   "execution_count": null,
   "metadata": {},
   "outputs": [
    {
     "name": "stdout",
     "output_type": "stream",
     "text": [
      "enter a number30\n"
     ]
    }
   ],
   "source": [
    "# read a number --n\n",
    "# add only even numbers between 1 to n \n",
    "# input -- 10\n",
    "# output -- 30(2 + 4 + 6 + 8 + 10)\n",
    "n = int(input(\"enter a number\"))\n",
    "i = 1\n",
    "while i <= n:\n",
    "    if i % 2 == 0:\n",
    "        sum = sum + 1\n",
    "        i = i + 1\n",
    "        print(sum)"
   ]
  },
  {
   "cell_type": "code",
   "execution_count": null,
   "metadata": {},
   "outputs": [],
   "source": [
    "# number as a number -- 123\n",
    "# print the digits of given number: 3 2 1\n",
    "n = int(input(\"enter a number\"))\n",
    "while n !=0:\n",
    "    r = n % 10\n",
    "    print(r,end = \" \")\n",
    "    n = n // 10"
   ]
  },
  {
   "cell_type": "code",
   "execution_count": null,
   "metadata": {},
   "outputs": [],
   "source": [
    "# read a number __ 1234\n",
    "# output -- 6(2+4)\n",
    "def addevendigits(n)\n",
    "    sum = 0\n",
    "    while n!=0\n",
    "    r = n % 10\n",
    "    if r% 2 == 0:\n",
    "        sum = sum +r\n",
    "     n = n // 10\n",
    "    return sum\n",
    "addevendigits(1234)\n"
   ]
  },
  {
   "cell_type": "code",
   "execution_count": null,
   "metadata": {},
   "outputs": [],
   "source": [
    "# read a number -- 19528\n",
    "# print the large digit print the number\n",
    "def printlarge(n)\n",
    "    large = 0:\n",
    "    while n != 0:\n",
    "        r = n % 10\n",
    "        if large < r:\n",
    "            large = r\n",
    "         n = n // 10\n",
    "      return large\n",
    "printlarge(19528)\n"
   ]
  },
  {
   "cell_type": "code",
   "execution_count": null,
   "metadata": {},
   "outputs": [],
   "source": [
    "# read a number input\n",
    "# output reversenumber(n):\n",
    "# 123 -- 321\n",
    "def reversenumber(n):\n",
    "    return\n",
    "reversenumber(123)"
   ]
  }
 ],
 "metadata": {
  "kernelspec": {
   "display_name": "Python 3",
   "language": "python",
   "name": "python3"
  },
  "language_info": {
   "codemirror_mode": {
    "name": "ipython",
    "version": 3
   },
   "file_extension": ".py",
   "mimetype": "text/x-python",
   "name": "python",
   "nbconvert_exporter": "python",
   "pygments_lexer": "ipython3",
   "version": "3.7.3"
  }
 },
 "nbformat": 4,
 "nbformat_minor": 2
}
