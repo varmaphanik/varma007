{
 "cells": [
  {
   "cell_type": "code",
   "execution_count": 1,
   "metadata": {},
   "outputs": [
    {
     "name": "stdout",
     "output_type": "stream",
     "text": [
      "enter the filename : file1.txt\n"
     ]
    },
    {
     "ename": "NameError",
     "evalue": "name 'x' is not defined",
     "output_type": "error",
     "traceback": [
      "\u001b[1;31m---------------------------------------------------------------------------\u001b[0m",
      "\u001b[1;31mNameError\u001b[0m                                 Traceback (most recent call last)",
      "\u001b[1;32m<ipython-input-1-b5e5cb8a8e3d>\u001b[0m in \u001b[0;36m<module>\u001b[1;34m\u001b[0m\n\u001b[0;32m     14\u001b[0m    \u001b[1;32mreturn\u001b[0m \u001b[0moutput\u001b[0m\u001b[1;33m\u001b[0m\u001b[1;33m\u001b[0m\u001b[0m\n\u001b[0;32m     15\u001b[0m \u001b[0mfilename\u001b[0m\u001b[1;33m=\u001b[0m\u001b[0minput\u001b[0m\u001b[1;33m(\u001b[0m\u001b[1;34m'enter the filename : '\u001b[0m\u001b[1;33m)\u001b[0m\u001b[1;33m\u001b[0m\u001b[1;33m\u001b[0m\u001b[0m\n\u001b[1;32m---> 16\u001b[1;33m \u001b[0mcasecount\u001b[0m\u001b[1;33m(\u001b[0m\u001b[0mfilename\u001b[0m\u001b[1;33m)\u001b[0m\u001b[1;33m\u001b[0m\u001b[1;33m\u001b[0m\u001b[0m\n\u001b[0m",
      "\u001b[1;32m<ipython-input-1-b5e5cb8a8e3d>\u001b[0m in \u001b[0;36mcasecount\u001b[1;34m(filename)\u001b[0m\n\u001b[0;32m      5\u001b[0m        \u001b[1;32mif\u001b[0m \u001b[0mf\u001b[0m\u001b[1;33m.\u001b[0m\u001b[0mmode\u001b[0m\u001b[1;33m==\u001b[0m\u001b[1;34m'r'\u001b[0m\u001b[1;33m:\u001b[0m\u001b[1;33m\u001b[0m\u001b[1;33m\u001b[0m\u001b[0m\n\u001b[0;32m      6\u001b[0m            \u001b[0mc\u001b[0m\u001b[1;33m=\u001b[0m\u001b[0mf\u001b[0m\u001b[1;33m.\u001b[0m\u001b[0mread\u001b[0m\u001b[1;33m(\u001b[0m\u001b[1;33m)\u001b[0m\u001b[1;33m\u001b[0m\u001b[1;33m\u001b[0m\u001b[0m\n\u001b[1;32m----> 7\u001b[1;33m            \u001b[0mli\u001b[0m\u001b[1;33m=\u001b[0m\u001b[0mlist\u001b[0m\u001b[1;33m(\u001b[0m\u001b[0mx\u001b[0m\u001b[1;33m)\u001b[0m\u001b[1;33m\u001b[0m\u001b[1;33m\u001b[0m\u001b[0m\n\u001b[0m\u001b[0;32m      8\u001b[0m    \u001b[1;32mfor\u001b[0m \u001b[0mi\u001b[0m \u001b[1;32min\u001b[0m \u001b[0mli\u001b[0m\u001b[1;33m:\u001b[0m\u001b[1;33m\u001b[0m\u001b[1;33m\u001b[0m\u001b[0m\n\u001b[0;32m      9\u001b[0m        \u001b[1;32mif\u001b[0m \u001b[0mi\u001b[0m\u001b[1;33m.\u001b[0m\u001b[0misupper\u001b[0m\u001b[1;33m(\u001b[0m\u001b[1;33m)\u001b[0m\u001b[1;33m:\u001b[0m\u001b[1;33m\u001b[0m\u001b[1;33m\u001b[0m\u001b[0m\n",
      "\u001b[1;31mNameError\u001b[0m: name 'x' is not defined"
     ]
    }
   ],
   "source": [
    "def casecount(filename):\n",
    "   cntupper=0\n",
    "   cnlower=0\n",
    "   with open(filename, 'r') as f:\n",
    "       if f.mode=='r':\n",
    "           c=f.read()\n",
    "           li=list(x)\n",
    "   for i in li:\n",
    "       if i.isupper():\n",
    "           cntupper+=1\n",
    "       elif i.islower():\n",
    "           cntlower+=1\n",
    "   output= 'upper case={0}, lower case={1}'.format(cntupper)\n",
    "   return output\n",
    "filename=input('enter the filename : ')\n",
    "casecount(filename)"
   ]
  },
  {
   "cell_type": "code",
   "execution_count": 2,
   "metadata": {},
   "outputs": [
    {
     "name": "stdout",
     "output_type": "stream",
     "text": [
      "enter the filename :file1\n"
     ]
    },
    {
     "ename": "FileNotFoundError",
     "evalue": "[Errno 2] No such file or directory: 'file1'",
     "output_type": "error",
     "traceback": [
      "\u001b[1;31m---------------------------------------------------------------------------\u001b[0m",
      "\u001b[1;31mFileNotFoundError\u001b[0m                         Traceback (most recent call last)",
      "\u001b[1;32m<ipython-input-2-276e85fb0a5b>\u001b[0m in \u001b[0;36m<module>\u001b[1;34m\u001b[0m\n\u001b[0;32m      6\u001b[0m    \u001b[1;32mreturn\u001b[0m \u001b[0mlen\u001b[0m\u001b[1;33m(\u001b[0m\u001b[0mli\u001b[0m\u001b[1;33m)\u001b[0m\u001b[1;33m\u001b[0m\u001b[1;33m\u001b[0m\u001b[0m\n\u001b[0;32m      7\u001b[0m \u001b[0mfilename\u001b[0m\u001b[1;33m=\u001b[0m\u001b[0minput\u001b[0m\u001b[1;33m(\u001b[0m\u001b[1;34m'enter the filename :'\u001b[0m\u001b[1;33m)\u001b[0m\u001b[1;33m\u001b[0m\u001b[1;33m\u001b[0m\u001b[0m\n\u001b[1;32m----> 8\u001b[1;33m \u001b[0mcountoflines\u001b[0m\u001b[1;33m(\u001b[0m\u001b[0mfilename\u001b[0m\u001b[1;33m)\u001b[0m\u001b[1;33m\u001b[0m\u001b[1;33m\u001b[0m\u001b[0m\n\u001b[0m",
      "\u001b[1;32m<ipython-input-2-276e85fb0a5b>\u001b[0m in \u001b[0;36mcountoflines\u001b[1;34m(filename)\u001b[0m\n\u001b[0;32m      1\u001b[0m \u001b[1;32mdef\u001b[0m \u001b[0mcountoflines\u001b[0m\u001b[1;33m(\u001b[0m\u001b[0mfilename\u001b[0m\u001b[1;33m)\u001b[0m\u001b[1;33m:\u001b[0m\u001b[1;33m\u001b[0m\u001b[1;33m\u001b[0m\u001b[0m\n\u001b[1;32m----> 2\u001b[1;33m    \u001b[1;32mwith\u001b[0m \u001b[0mopen\u001b[0m\u001b[1;33m(\u001b[0m\u001b[0mfilename\u001b[0m\u001b[1;33m)\u001b[0m\u001b[1;33m:\u001b[0m\u001b[1;33m\u001b[0m\u001b[1;33m\u001b[0m\u001b[0m\n\u001b[0m\u001b[0;32m      3\u001b[0m        \u001b[1;32mif\u001b[0m \u001b[0mf\u001b[0m\u001b[1;33m.\u001b[0m\u001b[0mmode\u001b[0m\u001b[1;33m==\u001b[0m\u001b[1;34m'r'\u001b[0m\u001b[1;33m:\u001b[0m\u001b[1;33m\u001b[0m\u001b[1;33m\u001b[0m\u001b[0m\n\u001b[0;32m      4\u001b[0m            \u001b[0mx\u001b[0m\u001b[1;33m=\u001b[0m\u001b[0mf\u001b[0m\u001b[1;33m.\u001b[0m\u001b[0mread\u001b[0m\u001b[1;33m(\u001b[0m\u001b[1;33m)\u001b[0m\u001b[1;33m\u001b[0m\u001b[1;33m\u001b[0m\u001b[0m\n\u001b[0;32m      5\u001b[0m            \u001b[0mli\u001b[0m\u001b[1;33m=\u001b[0m\u001b[0mx\u001b[0m\u001b[1;33m.\u001b[0m\u001b[0msplit\u001b[0m\u001b[1;33m(\u001b[0m\u001b[1;34m\"\\n\"\u001b[0m\u001b[1;33m)\u001b[0m\u001b[1;33m\u001b[0m\u001b[1;33m\u001b[0m\u001b[0m\n",
      "\u001b[1;31mFileNotFoundError\u001b[0m: [Errno 2] No such file or directory: 'file1'"
     ]
    }
   ],
   "source": [
    "def countoflines(filename):\n",
    "   with open(filename):\n",
    "       if f.mode=='r':\n",
    "           x=f.read()\n",
    "           li=x.split(\"\\n\")\n",
    "   return len(li)\n",
    "filename=input('enter the filename :')\n",
    "countoflines(filename)\n"
   ]
  },
  {
   "cell_type": "code",
   "execution_count": 2,
   "metadata": {},
   "outputs": [
    {
     "ename": "IndentationError",
     "evalue": "unindent does not match any outer indentation level (<tokenize>, line 6)",
     "output_type": "error",
     "traceback": [
      "\u001b[1;36m  File \u001b[1;32m\"<tokenize>\"\u001b[1;36m, line \u001b[1;32m6\u001b[0m\n\u001b[1;33m    elif f.mode == 'a':\u001b[0m\n\u001b[1;37m    ^\u001b[0m\n\u001b[1;31mIndentationError\u001b[0m\u001b[1;31m:\u001b[0m unindent does not match any outer indentation level\n"
     ]
    }
   ],
   "source": [
    "def fileoperations(filename, mode):\n",
    "   with open(filename, mode) as f:\n",
    "       if f.mode=='r':\n",
    "            data=f.read()\n",
    "            print(data)\n",
    "        elif f.mode == 'a':\n",
    "            f.write('Data to the file')\n",
    "            print('The data successfully written')\n",
    "    f.close()\n",
    "    return\n",
    "filename= input('enter the file name')\n",
    "mode=input('enter the mode of the file')\n",
    "fileoperations(filename, mode)"
   ]
  },
  {
   "cell_type": "code",
   "execution_count": 5,
   "metadata": {},
   "outputs": [
    {
     "name": "stdout",
     "output_type": "stream",
     "text": [
      "Testing....\n",
      "\n"
     ]
    }
   ],
   "source": [
    "def readdata(filename):\n",
    "   f=open(filename, 'r')\n",
    "   if f.mode=='r':\n",
    "       x=f.read()\n",
    "       print(x)\n",
    "   f.close\n",
    "   return\n",
    "readdata('file1.txt')"
   ]
  },
  {
   "cell_type": "code",
   "execution_count": 6,
   "metadata": {},
   "outputs": [
    {
     "name": "stdout",
     "output_type": "stream",
     "text": [
      "this is 0 line\n",
      "\n",
      "this is 1 line\n",
      "\n",
      "this is 2 line\n",
      "\n",
      "this is 3 line\n",
      "\n",
      "this is 4 line\n",
      "\n",
      "this is 5 line\n",
      "\n",
      "this is 6 line\n",
      "\n",
      "this is 7 line\n",
      "\n",
      "this is 8 line\n",
      "\n",
      "this is 9 line\n",
      "\n",
      "file created and succesfully data written\n"
     ]
    }
   ],
   "source": [
    "def appenddata(filename):\n",
    "   f=open(filename, 'a')\n",
    "   for i in range(10):\n",
    "       print(\"this is %d line\\n\" %i)\n",
    "   print(\"file created and succesfully data written\")\n",
    "   return\n",
    "appenddata('file1.txt')\n"
   ]
  },
  {
   "cell_type": "code",
   "execution_count": 7,
   "metadata": {},
   "outputs": [
    {
     "name": "stdout",
     "output_type": "stream",
     "text": [
      "file is created data had been written\n"
     ]
    }
   ],
   "source": [
    "def createfile(filename):\n",
    "   f=open(filename,'w')\n",
    "   f.write('Testing....\\n')\n",
    "   print(\"file is created data had been written\")\n",
    "   return\n",
    "createfile('file1.txt')\n"
   ]
  },
  {
   "cell_type": "code",
   "execution_count": 8,
   "metadata": {},
   "outputs": [
    {
     "name": "stdout",
     "output_type": "stream",
     "text": [
      " Volume in drive C has no label.\n",
      " Volume Serial Number is EC4B-6826\n",
      "\n",
      " Directory of C:\\Users\\student\n",
      "\n",
      "11-07-2019  12:36    <DIR>          .\n",
      "11-07-2019  12:36    <DIR>          ..\n",
      "21-06-2019  09:13    <DIR>          .anaconda\n",
      "25-06-2019  10:03               167 .bash_history\n",
      "11-07-2019  10:47    <DIR>          .conda\n",
      "11-07-2019  09:30                43 .condarc\n",
      "29-06-2019  10:45    <DIR>          .idlerc\n",
      "11-07-2019  12:34    <DIR>          .ipynb_checkpoints\n",
      "21-06-2019  09:15    <DIR>          .ipython\n",
      "11-07-2019  10:11    <DIR>          .jupyter\n",
      "28-06-2019  16:38    <DIR>          .matplotlib\n",
      "10-06-2019  03:51    <DIR>          .oracle_jre_usage\n",
      "10-07-2019  15:58             7,485 07.ipynb\n",
      "21-06-2019  10:32             3,776 123.ipynb\n",
      "09-07-2019  14:25    <DIR>          221810304024\n",
      "08-07-2019  16:04             4,407 221810308064.ipynb\n",
      "21-06-2019  05:40    <DIR>          Anaconda3\n",
      "10-06-2019  03:46    <DIR>          Contacts\n",
      "22-06-2019  09:13            11,853 day 6..ipynb\n",
      "04-07-2019  13:35    <DIR>          Desktop\n",
      "11-07-2019  10:37    <DIR>          Documents\n",
      "11-07-2019  09:34    <DIR>          Downloads\n",
      "10-06-2019  03:46    <DIR>          Favorites\n",
      "11-07-2019  10:32               156 file.txt\n",
      "11-07-2019  12:36                13 file1.txt\n",
      "10-06-2019  03:46    <DIR>          Links\n",
      "10-07-2019  12:34             1,175 m07.ipynb\n",
      "09-07-2019  15:43             3,448 mech005.ipynb\n",
      "10-06-2019  03:46    <DIR>          Music\n",
      "10-06-2019  03:46    <DIR>          Pictures\n",
      "10-06-2019  03:46    <DIR>          Saved Games\n",
      "10-06-2019  03:46    <DIR>          Searches\n",
      "11-07-2019  10:34             4,286 sunroop day 10.ipynb\n",
      "22-06-2019  04:37               750 Untitled.ipynb\n",
      "22-06-2019  04:57             1,151 Untitled1.ipynb\n",
      "10-07-2019  10:47             5,535 Untitled10.ipynb\n",
      "10-07-2019  11:28               792 Untitled11.ipynb\n",
      "11-07-2019  12:36             8,340 Untitled12.ipynb\n",
      "22-06-2019  08:31             1,513 Untitled2.ipynb\n",
      "22-06-2019  08:36                72 Untitled3.ipynb\n",
      "22-06-2019  08:46             1,406 Untitled4.ipynb\n",
      "24-06-2019  03:19                72 Untitled5.ipynb\n",
      "06-07-2019  12:49             5,519 Untitled6.ipynb\n",
      "08-07-2019  11:10             3,535 Untitled7.ipynb\n",
      "09-07-2019  11:02             5,093 Untitled8.ipynb\n",
      "09-07-2019  15:24             3,448 Untitled9.ipynb\n",
      "10-06-2019  03:46    <DIR>          Videos\n",
      "              24 File(s)         74,035 bytes\n",
      "              23 Dir(s)  67,918,692,352 bytes free\n"
     ]
    }
   ],
   "source": [
    "ls\n"
   ]
  },
  {
   "cell_type": "code",
   "execution_count": null,
   "metadata": {},
   "outputs": [],
   "source": []
  },
  {
   "cell_type": "code",
   "execution_count": null,
   "metadata": {},
   "outputs": [],
   "source": []
  }
 ],
 "metadata": {
  "kernelspec": {
   "display_name": "Python 3",
   "language": "python",
   "name": "python3"
  },
  "language_info": {
   "codemirror_mode": {
    "name": "ipython",
    "version": 3
   },
   "file_extension": ".py",
   "mimetype": "text/x-python",
   "name": "python",
   "nbconvert_exporter": "python",
   "pygments_lexer": "ipython3",
   "version": "3.7.3"
  }
 },
 "nbformat": 4,
 "nbformat_minor": 2
}
