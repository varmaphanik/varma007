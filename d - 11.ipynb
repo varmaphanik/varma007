{
 "cells": [
  {
   "cell_type": "code",
   "execution_count": 5,
   "metadata": {},
   "outputs": [
    {
     "name": "stdout",
     "output_type": "stream",
     "text": [
      "True\n",
      "False\n"
     ]
    }
   ],
   "source": [
    "# Fuction to test two digit number matching\n",
    "import re\n",
    "def twoDigitMatching(n):\n",
    "    pattern = '^[0-9]{2}$'\n",
    "    n = str(n)\n",
    "    if re.match(pattern,n):\n",
    "        return True\n",
    "    return False\n",
    "print(twoDigitMatching(12)) # True\n",
    "print(twoDigitMatching(123)) # False"
   ]
  },
  {
   "cell_type": "code",
   "execution_count": 9,
   "metadata": {},
   "outputs": [
    {
     "name": "stdout",
     "output_type": "stream",
     "text": [
      "True\n",
      "False\n"
     ]
    }
   ],
   "source": [
    "# Function to define test username having 8 charcters\n",
    "# Upper case and lower\n",
    "def testusername(s):\n",
    "    pattern = '^[a-zA-Z]{8}'\n",
    "    if re.match(pattern,s):\n",
    "        return True\n",
    "    return False\n",
    "print(testusername('GitamHyd'))\n",
    "print(testusername('Gitam188'))\n"
   ]
  },
  {
   "cell_type": "markdown",
   "metadata": {},
   "source": [
    "### Regular Expression to match the Indian mobile\n",
    "\n",
    "- 10 Digits\n",
    "- (First digit will be [6-9] and remainig 9 digits will be [0-9]\n",
    "- Example - 6300032707\n",
    "- Re - ^[6-9][0-9]{9}$\n",
    "- Example - 7032923504\n",
    "\n"
   ]
  },
  {
   "cell_type": "code",
   "execution_count": 12,
   "metadata": {
    "scrolled": true
   },
   "outputs": [
    {
     "data": {
      "text/plain": [
       "True"
      ]
     },
     "execution_count": 12,
     "metadata": {},
     "output_type": "execute_result"
    }
   ],
   "source": [
    "# Function to validate the Indian Mobile number\n",
    "def phoneNumberValidation(phone):\n",
    "    pattern = '^[6-9][0-9]{9}$|^[0][6-9][0-9]{9}$|^[+][9][1][6-9][0-9]{9}$'\n",
    "    phonr = str(phone)\n",
    "    if re.match(pattern,phone):\n",
    "        return True\n",
    "    return False\n",
    "phoneNumberValidation('+917032923504')"
   ]
  },
  {
   "cell_type": "markdown",
   "metadata": {},
   "source": [
    "- Regular Expression to validate the rollnumber\n",
    "      - Example : 1548436AS\n",
    "      - Example : 1458894SD\n",
    "      - Example : 1813136FH\n",
    "* Regular Expression to validate the password\n",
    "   - Parameters : Len min of 6 charceters and Max of 15 characeters\n",
    "    - Accept Lower case,Upper case,Digits spl char(@,#,!)"
   ]
  },
  {
   "cell_type": "markdown",
   "metadata": {},
   "source": [
    "### Email Id Validation Using Regular Expression\n",
    "- Example : Username@DomainName.extension\n",
    "- Username : \n",
    "             - Length will be [6-15]\n",
    "             - No Spls characters \n",
    "             - Character Set : Lower case characters\n",
    "             \n",
    "         * Extension\n",
    "                  - Length will be [2-4]\n",
    "                  - No spl characters\n",
    "                  - Character set : Lower case characters"
   ]
  },
  {
   "cell_type": "code",
   "execution_count": 14,
   "metadata": {},
   "outputs": [
    {
     "data": {
      "text/plain": [
       "False"
      ]
     },
     "execution_count": 14,
     "metadata": {},
     "output_type": "execute_result"
    }
   ],
   "source": [
    "def emailIdValidation(email):\n",
    "    pattern = '^[0-9a-z][0-9a-z_]{5,14}[@][a-z0-9]{3,18}[.][a-z]{2,4}$'\n",
    "    if re.match(pattern,email):\n",
    "        return True\n",
    "    return False\n",
    "emailIdValidation('rohitsaikalahasti@gmail.com')\n",
    "    "
   ]
  },
  {
   "cell_type": "code",
   "execution_count": 16,
   "metadata": {},
   "outputs": [],
   "source": [
    "# go to function\n",
    " \n",
    "from turtle import *\n",
    "goto(50,50)\n",
    "goto(-50,50)\n",
    "goto(100,-50)\n",
    "goto(-50,-50)"
   ]
  },
  {
   "cell_type": "code",
   "execution_count": 17,
   "metadata": {
    "scrolled": true
   },
   "outputs": [
    {
     "ename": "SyntaxError",
     "evalue": "invalid syntax (<ipython-input-17-5b7c312e4790>, line 1)",
     "output_type": "error",
     "traceback": [
      "\u001b[1;36m  File \u001b[1;32m\"<ipython-input-17-5b7c312e4790>\"\u001b[1;36m, line \u001b[1;32m1\u001b[0m\n\u001b[1;33m    from trutle import\u001b[0m\n\u001b[1;37m                      ^\u001b[0m\n\u001b[1;31mSyntaxError\u001b[0m\u001b[1;31m:\u001b[0m invalid syntax\n"
     ]
    }
   ],
   "source": [
    "from turtle import\n",
    "pencolor('blue')\n",
    "for i in range(20):\n",
    "    forward(100)\n",
    "    left(90)\n",
    "    forward(10)\n",
    "    left(90)\n",
    "    forward(100)\n",
    "    right(90)\n",
    "    forward(10)\n",
    "    right(90)\n",
    "pencolor('red')\n",
    "for i in range(90):\n",
    "    undo()"
   ]
  },
  {
   "cell_type": "code",
   "execution_count": 18,
   "metadata": {},
   "outputs": [],
   "source": [
    "from turtle import *\n",
    "pensize(50)\n",
    "pencolor('blue')\n",
    "forward(250)\n",
    "pencolor(0,1.0,0)\n",
    "forward(250)\n",
    "pensize(10)\n",
    "goto(-400,50)\n",
    "\n",
    "\n",
    "for red in range(4):\n",
    "    for green in range(4):\n",
    "        for blue in range(4):\n",
    "            pencolor(red/4.0,green/4.0,blue/4.0)\n",
    "            forward(10)"
   ]
  },
  {
   "cell_type": "code",
   "execution_count": null,
   "metadata": {},
   "outputs": [],
   "source": []
  }
 ],
 "metadata": {
  "kernelspec": {
   "display_name": "Python 3",
   "language": "python",
   "name": "python3"
  },
  "language_info": {
   "codemirror_mode": {
    "name": "ipython",
    "version": 3
   },
   "file_extension": ".py",
   "mimetype": "text/x-python",
   "name": "python",
   "nbconvert_exporter": "python",
   "pygments_lexer": "ipython3",
   "version": "3.7.3"
  }
 },
 "nbformat": 4,
 "nbformat_minor": 2
}
