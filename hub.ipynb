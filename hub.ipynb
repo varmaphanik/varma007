{
 "cells": [
  {
   "cell_type": "markdown",
   "metadata": {},
   "source": [
    "# Dictionaries\n",
    "\n",
    "* It works on the concpet of Set Unqiue data\n",
    "* Keys,Values is the unquie identifier for a value\n",
    "* Each key is separted from its value with colo(:)\n",
    "* Each key and value is separted bby comma(,)\n",
    "* Dictionaries enclosed with Curly braces"
   ]
  },
  {
   "cell_type": "code",
   "execution_count": 1,
   "metadata": {},
   "outputs": [
    {
     "name": "stdout",
     "output_type": "stream",
     "text": [
      "{'Name': 'Gitam', 'EmailId': 'gitam@gmail.com', 'Address': 'Hyderabad'}\n"
     ]
    }
   ],
   "source": [
    "d1 = {\"Name\":\"Gitam\",\"EmailId\":\"gitam@gmail.com\",\"Address\":\"Hyderabad\"}\n",
    "print(d1)"
   ]
  },
  {
   "cell_type": "code",
   "execution_count": 2,
   "metadata": {},
   "outputs": [
    {
     "data": {
      "text/plain": [
       "'Gitam'"
      ]
     },
     "execution_count": 2,
     "metadata": {},
     "output_type": "execute_result"
    }
   ],
   "source": [
    "d1[\"Name\"]"
   ]
  },
  {
   "cell_type": "code",
   "execution_count": 3,
   "metadata": {},
   "outputs": [],
   "source": [
    "d1['EmailId'] = 'Gitam-Python@gmail.com'"
   ]
  },
  {
   "cell_type": "code",
   "execution_count": 6,
   "metadata": {},
   "outputs": [],
   "source": [
    "del d1['EmailId']"
   ]
  },
  {
   "cell_type": "code",
   "execution_count": 7,
   "metadata": {},
   "outputs": [
    {
     "data": {
      "text/plain": [
       "{'Name': 'Gitam', 'Address': 'Hyderabad'}"
      ]
     },
     "execution_count": 7,
     "metadata": {},
     "output_type": "execute_result"
    }
   ],
   "source": [
    "d1"
   ]
  },
  {
   "cell_type": "code",
   "execution_count": 12,
   "metadata": {},
   "outputs": [
    {
     "ename": "KeyError",
     "evalue": "'EmailId'",
     "output_type": "error",
     "traceback": [
      "\u001b[1;31m---------------------------------------------------------------------------\u001b[0m",
      "\u001b[1;31mKeyError\u001b[0m                                  Traceback (most recent call last)",
      "\u001b[1;32m<ipython-input-12-3b756f6d4c23>\u001b[0m in \u001b[0;36m<module>\u001b[1;34m\u001b[0m\n\u001b[1;32m----> 1\u001b[1;33m \u001b[1;32mdel\u001b[0m \u001b[0md1\u001b[0m\u001b[1;33m[\u001b[0m\u001b[1;34m'EmailId'\u001b[0m\u001b[1;33m]\u001b[0m \u001b[1;31m# Delete the specific key value\u001b[0m\u001b[1;33m\u001b[0m\u001b[1;33m\u001b[0m\u001b[0m\n\u001b[0m",
      "\u001b[1;31mKeyError\u001b[0m: 'EmailId'"
     ]
    }
   ],
   "source": [
    "del d1['EmailId'] # Delete the specific key value"
   ]
  },
  {
   "cell_type": "code",
   "execution_count": 13,
   "metadata": {},
   "outputs": [
    {
     "data": {
      "text/plain": [
       "dict_keys(['Name', 'Address'])"
      ]
     },
     "execution_count": 13,
     "metadata": {},
     "output_type": "execute_result"
    }
   ],
   "source": [
    "d1.keys() # returns the list of keys"
   ]
  },
  {
   "cell_type": "code",
   "execution_count": 16,
   "metadata": {},
   "outputs": [
    {
     "data": {
      "text/plain": [
       "dict_items([('Name', 'Gitam'), ('Address', 'Hyderabad')])"
      ]
     },
     "execution_count": 16,
     "metadata": {},
     "output_type": "execute_result"
    }
   ],
   "source": [
    "d1.items() # # the ist of tuples of keys and values"
   ]
  },
  {
   "cell_type": "code",
   "execution_count": 15,
   "metadata": {},
   "outputs": [
    {
     "data": {
      "text/plain": [
       "dict_values(['Gitam', 'Hyderabad'])"
      ]
     },
     "execution_count": 15,
     "metadata": {},
     "output_type": "execute_result"
    }
   ],
   "source": [
    "d1.values() # returns the values"
   ]
  },
  {
   "cell_type": "markdown",
   "metadata": {},
   "source": [
    "### Tuples\n",
    "\n",
    "* t1 paranthesis() li square brackets[]\n",
    "* Difference between list and tuples\n",
    "  * list are mutable-can be changed\n",
    "    - Used to access modify,Add,deletedata\n",
    "* Tuples are immutable-cannot be changed\n",
    "    - Used to access the data only"
   ]
  },
  {
   "cell_type": "code",
   "execution_count": 17,
   "metadata": {},
   "outputs": [
    {
     "data": {
      "text/plain": [
       "tuple"
      ]
     },
     "execution_count": 17,
     "metadata": {},
     "output_type": "execute_result"
    }
   ],
   "source": [
    "t1 = (1,2,3,4,5,6)\n",
    "t1\n",
    "type(t1)"
   ]
  },
  {
   "cell_type": "markdown",
   "metadata": {},
   "source": [
    "### Contact Applications\n",
    "\n",
    "* Add contact\n",
    "* Search the contact\n",
    "* List all contact\n",
    "  - name1:phone1\n",
    "  - name2:phone2\n",
    "* Modify the contact\n",
    "* Remove the contact\n",
    "* Import the contact"
   ]
  },
  {
   "cell_type": "code",
   "execution_count": 23,
   "metadata": {},
   "outputs": [
    {
     "name": "stdout",
     "output_type": "stream",
     "text": [
      "Contact is details are added\n",
      "Contact is details are added\n",
      "Contact is details are already added\n"
     ]
    }
   ],
   "source": [
    "# Add contact\n",
    "contacts = {} # Creating a dict objects\n",
    "def addcontact(name,phone):\n",
    "    if name not in contacts:\n",
    "        contacts[name] = phone\n",
    "        print(\"Contact is details are added\")\n",
    "    else:\n",
    "            print(\"Contact is details are already added\")\n",
    "            return\n",
    "addcontact('Rohit','7032923504')\n",
    "addcontact('Maneesh','9876231167')\n",
    "addcontact('Rohit','7032923504')"
   ]
  },
  {
   "cell_type": "code",
   "execution_count": 24,
   "metadata": {},
   "outputs": [
    {
     "data": {
      "text/plain": [
       "{'Rohit': '7032923504', 'Maneesh': '9876231167'}"
      ]
     },
     "execution_count": 24,
     "metadata": {},
     "output_type": "execute_result"
    }
   ],
   "source": [
    "contacts"
   ]
  },
  {
   "cell_type": "code",
   "execution_count": 25,
   "metadata": {},
   "outputs": [
    {
     "name": "stdout",
     "output_type": "stream",
     "text": [
      "Rohit  :  7032923504\n",
      "Warner does not exsits\n"
     ]
    }
   ],
   "source": [
    "# Search for contact details\n",
    "def searchcontact(name):\n",
    "    if name in contacts:\n",
    "        print(name, \" : \", contacts[name])\n",
    "    else:\n",
    "        print(\"%s does not exsits\" % name)\n",
    "        return\n",
    "searchcontact('Rohit')\n",
    "searchcontact('Warner')"
   ]
  },
  {
   "cell_type": "code",
   "execution_count": 26,
   "metadata": {},
   "outputs": [
    {
     "name": "stdout",
     "output_type": "stream",
     "text": [
      "2 contacts Added successful\n"
     ]
    }
   ],
   "source": [
    "# Import some contacts\n",
    "# Merge the contact with existing one\n",
    "def importcontact(newcontacts):\n",
    "    contacts.update(newcontacts)\n",
    "    print(len(newcontacts.keys()),\"contacts Added successful\")\n",
    "    return\n",
    "newcontacts = {'Dinesh':9887744854,'Phani':9874513204}\n",
    "importcontact(newcontacts)\n",
    "    "
   ]
  },
  {
   "cell_type": "code",
   "execution_count": 27,
   "metadata": {},
   "outputs": [
    {
     "data": {
      "text/plain": [
       "{'Rohit': '7032923504',\n",
       " 'Maneesh': '9876231167',\n",
       " 'Dinesh': 9887744854,\n",
       " 'Phani': 9874513204}"
      ]
     },
     "execution_count": 27,
     "metadata": {},
     "output_type": "execute_result"
    }
   ],
   "source": [
    "contacts"
   ]
  },
  {
   "cell_type": "code",
   "execution_count": 36,
   "metadata": {},
   "outputs": [
    {
     "name": "stdout",
     "output_type": "stream",
     "text": [
      "Phani deleted\n"
     ]
    }
   ],
   "source": [
    " # Delete the contact\n",
    "def deletecontact(name):\n",
    "    if name in contacts:\n",
    "        del contacts[name]\n",
    "        print(name,\"deleted\")\n",
    "    else:\n",
    "        print(name,\"not delete\")\n",
    "    return\n",
    "deletecontact('Phani')\n",
    "  "
   ]
  },
  {
   "cell_type": "code",
   "execution_count": 38,
   "metadata": {},
   "outputs": [
    {
     "name": "stdout",
     "output_type": "stream",
     "text": [
      "Rohit updated\n",
      "Ajay not exists\n"
     ]
    }
   ],
   "source": [
    "# Update the contact details\n",
    "def deletecontact(name,phone):\n",
    "    if name in contacts:\n",
    "        contacts[name] = phone\n",
    "        print(name,\"updated\")\n",
    "    else:\n",
    "        print(name,\"not exists\")\n",
    "    return\n",
    "deletecontact('Rohit',7032923504)\n",
    "deletecontact('Ajay',9988774485)\n"
   ]
  },
  {
   "cell_type": "code",
   "execution_count": 41,
   "metadata": {},
   "outputs": [
    {
     "name": "stdout",
     "output_type": "stream",
     "text": [
      "3 2 1 1 0 "
     ]
    }
   ],
   "source": [
    "# Python 3 Program to print Fibonacci \n",
    "# series in reverse order \n",
    "\n",
    "def reverseFibonacci(n): \n",
    "\n",
    "\ta = [0] * n \n",
    "\n",
    "\t# assigning first and second elements \n",
    "\ta[0] = 0\n",
    "\ta[1] = 1\n",
    "\n",
    "\tfor i in range(2, n): \n",
    "\n",
    "\t\t# storing sum in the \n",
    "\t\t# preceding location \n",
    "\t\ta[i] = a[i - 2] + a[i - 1] \n",
    "\t\n",
    "\n",
    "\tfor i in range(n - 1, -1 , -1): \n",
    "\n",
    "\t\t# printing array in \n",
    "\t\t# reverse order \n",
    "\t\tprint(a[i],end=\" \") \n",
    "\t\n",
    "\n",
    "\n",
    "# Driver function \n",
    "n = 5\n",
    "reverseFibonacci(n) \n"
   ]
  },
  {
   "cell_type": "code",
   "execution_count": 42,
   "metadata": {},
   "outputs": [
    {
     "name": "stdout",
     "output_type": "stream",
     "text": [
      "13\n"
     ]
    }
   ],
   "source": [
    "# Python3 program to find the \n",
    "# number of charters in the \n",
    "# longest word in the sentence. \n",
    "def LongestWordLength(str): \n",
    "\n",
    "\tn = len(str) \n",
    "\tres = 0; curr_len = 0\n",
    "\t\n",
    "\tfor i in range(0, n): \n",
    "\t\t\n",
    "\t\t# If current character is \n",
    "\t\t# not end of current word. \n",
    "\t\tif (str[i] != ' '): \n",
    "\t\t\tcurr_len += 1\n",
    "\n",
    "\t\t# If end of word is found \n",
    "\t\telse: \n",
    "\t\t\tres = max(res, curr_len) \n",
    "\t\t\tcurr_len = 0\n",
    "\n",
    "\t# We do max one more time to consider \n",
    "\t# last word as there won't be any space \n",
    "\t# after last word. \n",
    "\treturn max(res, curr_len) \n",
    "\n",
    "# Driver Code \n",
    "s = \"I am an intern at geeksforgeeks\"\n",
    "print(LongestWordLength(s)) \n",
    "\n",
    "\n"
   ]
  },
  {
   "cell_type": "code",
   "execution_count": 43,
   "metadata": {},
   "outputs": [
    {
     "name": "stdout",
     "output_type": "stream",
     "text": [
      "The 5 th term of the series is : 162\n"
     ]
    }
   ],
   "source": [
    "# Python3 Program to find nth \n",
    "# term of geometric progression \n",
    "import math \n",
    "\n",
    "def Nth_of_GP(a, r, N): \n",
    "\n",
    "\t# Using formula to find the Nth \n",
    "\t# term TN = a1 * r(N-1) \n",
    "\treturn( a * (int)(math.pow(r, N - 1)) ) \n",
    "\t\n",
    "# Driver code \n",
    "a = 2 # Starting number \n",
    "r = 3 # Common ratio \n",
    "N = 5 # N th term to be find \n",
    "\t\n",
    "print(\"The\", N, \"th term of the series is :\", \n",
    "\t\t\t\t\t\t\tNth_of_GP(a, r, N)) \n",
    "\n",
    "\n",
    "\n"
   ]
  },
  {
   "cell_type": "code",
   "execution_count": 44,
   "metadata": {},
   "outputs": [
    {
     "name": "stdout",
     "output_type": "stream",
     "text": [
      "3\n",
      "32\n"
     ]
    }
   ],
   "source": [
    "# Python3 program to find Nth term \n",
    "# in the given Series \n",
    "\n",
    "# Function to find the nth term \n",
    "# in the given series \n",
    "def findNthTerm(n): \n",
    "\t# If input number is even \n",
    "\tif n % 2 == 0: \n",
    "\t\tn //= 2\n",
    "\t\tprint(3 ** (n - 1)) \n",
    "\t# If input number is odd \n",
    "\telse: \n",
    "\t\tn = (n // 2) + 1\n",
    "\t\tprint(2 ** (n - 1)) \n",
    "\n",
    "# Driver Code \n",
    "if __name__=='__main__': \n",
    "\tN = 4\n",
    "\tfindNthTerm(N) \n",
    "\n",
    "\tN = 11\n",
    "\tfindNthTerm(N) \n",
    "\n",
    "\n",
    "\n"
   ]
  },
  {
   "cell_type": "code",
   "execution_count": 45,
   "metadata": {},
   "outputs": [
    {
     "name": "stdout",
     "output_type": "stream",
     "text": [
      "sennuish\n"
     ]
    }
   ],
   "source": [
    "# Python 3 program for creating a string \n",
    "# by alternately combining the \n",
    "# characters of two halves \n",
    "# in reverse \n",
    "\n",
    "# Function performing calculations \n",
    "def solve(s) : \n",
    "\tl = len(s) \n",
    "\tx = l // 2\n",
    "\ty = l \n",
    "\t\n",
    "\t# Calculating the two halves \n",
    "\t# of string s as first and \n",
    "\t# second. The final string p \n",
    "\tp = \"\" \n",
    "\twhile (x > 0 and y > l / 2) : \n",
    "\n",
    "\t\t# It joins the characters to \n",
    "\t\t# final string in reverse order \n",
    "\t\tp = p + s[x - 1] \n",
    "\t\tx = x - 1\n",
    "\t\t\n",
    "\t\t# It joins the characters to \n",
    "\t\t# final string in reverse order \n",
    "\t\tp = p + s[y - 1] \n",
    "\t\ty = y - 1\n",
    "\t\n",
    "\t\n",
    "\tif (y > l // 2) : \n",
    "\t\tp = p + s[y - 1] \n",
    "\t\ty = y - 1\n",
    "\t\n",
    "\tprint (p) \n",
    "\n",
    "# Driver code \n",
    "s = \"sunshine\"\n",
    "\n",
    "# Calling function \n",
    "solve(s) \n",
    "\n",
    "\n",
    "\n"
   ]
  },
  {
   "cell_type": "code",
   "execution_count": 46,
   "metadata": {},
   "outputs": [
    {
     "ename": "IndentationError",
     "evalue": "expected an indented block (<ipython-input-46-1537084da125>, line 16)",
     "output_type": "error",
     "traceback": [
      "\u001b[1;36m  File \u001b[1;32m\"<ipython-input-46-1537084da125>\"\u001b[1;36m, line \u001b[1;32m16\u001b[0m\n\u001b[1;33m    i = calculated;\u001b[0m\n\u001b[1;37m    ^\u001b[0m\n\u001b[1;31mIndentationError\u001b[0m\u001b[1;31m:\u001b[0m expected an indented block\n"
     ]
    }
   ],
   "source": [
    "# Python3 Program to print the solution\n",
    "# of the series f(n)= (1) + (2*3) + (4*5*6)\n",
    "# … n using recursion\n",
    "\n",
    "# Recursive function for finding sum of series\n",
    "# calculated – number of terms till\n",
    "#\twhich sum of terms\n",
    "#\thas been calculated\n",
    "# current – number of terms for\n",
    "#\twhich sum has to be\n",
    "#\tcalculated\n",
    "# N\t– Number of terms in the\n",
    "#\tfunction to be calculated\n",
    "def seriesSum(calculated, current, N):\n",
    "\n",
    "i = calculated;\n",
    "cur = 1;\n",
    "\n",
    "# checking termination condition\n",
    "if (current == N + 1):\n",
    "return 0;"
   ]
  },
  {
   "cell_type": "code",
   "execution_count": 47,
   "metadata": {},
   "outputs": [
    {
     "name": "stdout",
     "output_type": "stream",
     "text": [
      "59  is a Special  Two-Digit Number\n"
     ]
    }
   ],
   "source": [
    "# Python3 code to find if \n",
    "# number is a Special \n",
    "# Two-Digit number or not \n",
    "\n",
    "# Function to find if number \n",
    "# is special or not \n",
    "def specialNumber(n): \n",
    "\n",
    "\t# Checking whether entered \n",
    "\t# number is 2 digit or not \n",
    "\tif (n < 10 or n > 99): \n",
    "\t\tprint(\"Invalid Input! Number\", \n",
    "\t\t\t\" should have 2 digits only\") \n",
    "\telse: \n",
    "\t\n",
    "\t\t# Finding the first digit \n",
    "\t\tfirst = n // 10\n",
    "\t\t\n",
    "\t\t# Finding the last digit \n",
    "\t\tlast = n % 10\n",
    "\t\t\n",
    "\t\t# Finding the sum \n",
    "\t\t# of the digits \n",
    "\t\tsum = first + last \n",
    "\t\t\n",
    "\t\t# Finding the product \n",
    "\t\t# of the digits \n",
    "\t\tpro = first * last \n",
    "\t\t\n",
    "\t\tif ((sum + pro) == n): \n",
    "\t\t\n",
    "\t\t\tprint(n ,\" is a Special \", \n",
    "\t\t\t\t\"Two-Digit Number\") \n",
    "\t\telse: \n",
    "\t\t\n",
    "\t\t\tprint(n , \" is Not a \", \n",
    "\t\t\t\t\"Special Two-Digit Number\") \n",
    "\t\t\n",
    "# Driver code \n",
    "n = 59\n",
    "specialNumber(n) \n",
    "\n",
    "\n",
    "\n"
   ]
  },
  {
   "cell_type": "markdown",
   "metadata": {},
   "source": [
    "### String Formatting\n",
    "\n",
    "* Classical Version\n",
    "* current Version"
   ]
  },
  {
   "cell_type": "code",
   "execution_count": 48,
   "metadata": {},
   "outputs": [
    {
     "name": "stdout",
     "output_type": "stream",
     "text": [
      "1 3 3 4 \n"
     ]
    }
   ],
   "source": [
    "li1 = [1,2,3,4]\n",
    "print(\"%d %d %d %d \"%(li1[0],li1[2],li1[2],li1[3]))"
   ]
  },
  {
   "cell_type": "code",
   "execution_count": 52,
   "metadata": {},
   "outputs": [
    {
     "ename": "NameError",
     "evalue": "name 'li' is not defined",
     "output_type": "error",
     "traceback": [
      "\u001b[1;31m---------------------------------------------------------------------------\u001b[0m",
      "\u001b[1;31mNameError\u001b[0m                                 Traceback (most recent call last)",
      "\u001b[1;32m<ipython-input-52-579013bb2b4e>\u001b[0m in \u001b[0;36m<module>\u001b[1;34m\u001b[0m\n\u001b[1;32m----> 1\u001b[1;33m \u001b[0mprint\u001b[0m\u001b[1;33m(\u001b[0m\u001b[1;34m\"{0} {1} {2} {3} \"\u001b[0m \u001b[1;33m.\u001b[0m\u001b[0mformat\u001b[0m\u001b[1;33m(\u001b[0m\u001b[0mli1\u001b[0m\u001b[1;33m[\u001b[0m\u001b[1;36m0\u001b[0m\u001b[1;33m]\u001b[0m\u001b[1;33m,\u001b[0m\u001b[0mli1\u001b[0m\u001b[1;33m[\u001b[0m\u001b[1;36m1\u001b[0m\u001b[1;33m]\u001b[0m\u001b[1;33m,\u001b[0m\u001b[0mli1\u001b[0m\u001b[1;33m[\u001b[0m\u001b[1;36m2\u001b[0m\u001b[1;33m]\u001b[0m\u001b[1;33m,\u001b[0m\u001b[0mli\u001b[0m\u001b[1;33m[\u001b[0m\u001b[1;36m3\u001b[0m\u001b[1;33m]\u001b[0m\u001b[1;33m)\u001b[0m\u001b[1;33m)\u001b[0m\u001b[1;33m\u001b[0m\u001b[1;33m\u001b[0m\u001b[0m\n\u001b[0m",
      "\u001b[1;31mNameError\u001b[0m: name 'li' is not defined"
     ]
    }
   ],
   "source": [
    "print(\"{0} {1} {2} {3} \" .format(li1[0],li1[1],li1[2],li[3]))"
   ]
  },
  {
   "cell_type": "code",
   "execution_count": 53,
   "metadata": {},
   "outputs": [
    {
     "name": "stdout",
     "output_type": "stream",
     "text": [
      "GITAM\n",
      "gitam\n"
     ]
    }
   ],
   "source": [
    "s1 = 'Gitam'\n",
    "print(s1.upper())\n",
    "print(s1.lower())"
   ]
  },
  {
   "cell_type": "markdown",
   "metadata": {},
   "source": [
    "### Boolean Fuction (True and False)\n",
    "\n",
    "* islower() -- True if the string is lower case/False if the string is not lower case\n",
    "* isupper() -- True if the string in upper case/False if the string is not lower case\n",
    "* istitle() -- True if the title \n"
   ]
  },
  {
   "cell_type": "code",
   "execution_count": 55,
   "metadata": {},
   "outputs": [
    {
     "name": "stdout",
     "output_type": "stream",
     "text": [
      "False\n",
      "True\n"
     ]
    }
   ],
   "source": [
    "s1 = 'GITAM'\n",
    "print(s1.islower())\n",
    "print(s1.isupper())"
   ]
  },
  {
   "cell_type": "code",
   "execution_count": 59,
   "metadata": {},
   "outputs": [
    {
     "name": "stdout",
     "output_type": "stream",
     "text": [
      "True\n",
      "False\n"
     ]
    }
   ],
   "source": [
    "s2 = \"Python Programming\"\n",
    "s3 = \"python Programming\"\n",
    "print(s2.istitle())\n",
    "print(s3.istitle())"
   ]
  },
  {
   "cell_type": "code",
   "execution_count": 62,
   "metadata": {},
   "outputs": [
    {
     "name": "stdout",
     "output_type": "stream",
     "text": [
      "False\n",
      "True\n"
     ]
    }
   ],
   "source": [
    "s2 = \"Python123\"\n",
    "s3 = \"pythonProgramming\"\n",
    "print(s2.isalpha())\n",
    "print(s3.isalpha())"
   ]
  },
  {
   "cell_type": "code",
   "execution_count": 64,
   "metadata": {},
   "outputs": [
    {
     "name": "stdout",
     "output_type": "stream",
     "text": [
      "True\n",
      "False\n"
     ]
    }
   ],
   "source": [
    "s1 = \"1234\"\n",
    "s2 = \"Apllication1234\"\n",
    "print(s1.isnumeric())\n",
    "print(s2.isnumeric())"
   ]
  },
  {
   "cell_type": "code",
   "execution_count": 65,
   "metadata": {},
   "outputs": [
    {
     "name": "stdout",
     "output_type": "stream",
     "text": [
      "True\n",
      "False\n"
     ]
    }
   ],
   "source": [
    "s1 = \" \"\n",
    "s2 = \"Py th on\"\n",
    "print(s1.isspace())\n",
    "print(s2.isspace())"
   ]
  },
  {
   "cell_type": "markdown",
   "metadata": {},
   "source": [
    "### String Methods\n",
    "\n",
    "* 1.join() -- Method will concatinates the two stringes\n",
    "* 2.split() -- split() returns the list of strings separated by whitespace\n"
   ]
  },
  {
   "cell_type": "code",
   "execution_count": 66,
   "metadata": {},
   "outputs": [
    {
     "name": "stdout",
     "output_type": "stream",
     "text": [
      "P y t h o n\n"
     ]
    }
   ],
   "source": [
    "s1 = 'Python'\n",
    "print(\" \".join(s1))"
   ]
  },
  {
   "cell_type": "code",
   "execution_count": 68,
   "metadata": {},
   "outputs": [
    {
     "name": "stdout",
     "output_type": "stream",
     "text": [
      "P, y, t, h, o, n,  , P, r, o, g, r, a, m, m, i, n, g,  , E, a, s, y,  , T, o,  , L, e, a, r, n\n"
     ]
    }
   ],
   "source": [
    "s2 = \"Python Programming Easy To Learn\"\n",
    "print(\", \".join(s2))"
   ]
  },
  {
   "cell_type": "code",
   "execution_count": 69,
   "metadata": {},
   "outputs": [
    {
     "name": "stdout",
     "output_type": "stream",
     "text": [
      "Python Programming Easy To Learn\n"
     ]
    }
   ],
   "source": [
    "li = ['Python','Programming','Easy','To','Learn']\n",
    "print(\" \".join(li))"
   ]
  },
  {
   "cell_type": "code",
   "execution_count": 2,
   "metadata": {},
   "outputs": [
    {
     "name": "stdout",
     "output_type": "stream",
     "text": [
      "['Python', 'Programming', 'Easy', 'To', 'Learn']\n"
     ]
    }
   ],
   "source": [
    "s2 = \"Python Programming Easy To Learn\"\n",
    "print(s2.split())"
   ]
  },
  {
   "cell_type": "code",
   "execution_count": 3,
   "metadata": {},
   "outputs": [
    {
     "name": "stdout",
     "output_type": "stream",
     "text": [
      "['Python Progr', 'mming E', 'sy To Le', 'rn']\n"
     ]
    }
   ],
   "source": [
    "s2 = \"Python Programming Easy To Learn\"\n",
    "print(s2.split('a'))"
   ]
  },
  {
   "cell_type": "code",
   "execution_count": 5,
   "metadata": {},
   "outputs": [
    {
     "name": "stdout",
     "output_type": "stream",
     "text": [
      "['Python', 'Programming', 'Easy', 'To', 'Learn']\n",
      "5\n"
     ]
    }
   ],
   "source": [
    "s2 = \"Python Programming Easy To Learn\"\n",
    "li = s2.split()\n",
    "print(li)\n",
    "print(len(li))"
   ]
  },
  {
   "cell_type": "code",
   "execution_count": 6,
   "metadata": {},
   "outputs": [
    {
     "name": "stdout",
     "output_type": "stream",
     "text": [
      "['P', 'y', 't', 'h', 'o', 'n', ' ', 'P', 'r', 'o', 'g', 'r', 'a', 'm', 'm', 'i', 'n', 'g', ' ', 'E', 'a', 's', 'y', ' ', 'T', 'o', ' ', 'L', 'e', 'a', 'r', 'n']\n"
     ]
    }
   ],
   "source": [
    "s2 = \"Python Programming Easy To Learn\"\n",
    "li = list(s2)\n",
    "print(li)"
   ]
  },
  {
   "cell_type": "code",
   "execution_count": 7,
   "metadata": {
    "scrolled": true
   },
   "outputs": [
    {
     "name": "stdout",
     "output_type": "stream",
     "text": [
      "Python ProApplicationmming Easy To Learn\n"
     ]
    }
   ],
   "source": [
    "s2 = \"Python Programming Easy To Learn\"\n",
    "print(s2.replace(\"gra\",\"Application\"))"
   ]
  },
  {
   "cell_type": "code",
   "execution_count": 10,
   "metadata": {},
   "outputs": [
    {
     "data": {
      "text/plain": [
       "120"
      ]
     },
     "execution_count": 10,
     "metadata": {},
     "output_type": "execute_result"
    }
   ],
   "source": [
    "from math import factorial as fact\n",
    "fact(5)"
   ]
  },
  {
   "cell_type": "code",
   "execution_count": null,
   "metadata": {},
   "outputs": [],
   "source": []
  }
 ],
 "metadata": {
  "kernelspec": {
   "display_name": "Python 3",
   "language": "python",
   "name": "python3"
  },
  "language_info": {
   "codemirror_mode": {
    "name": "ipython",
    "version": 3
   },
   "file_extension": ".py",
   "mimetype": "text/x-python",
   "name": "python",
   "nbconvert_exporter": "python",
   "pygments_lexer": "ipython3",
   "version": "3.7.3"
  }
 },
 "nbformat": 4,
 "nbformat_minor": 2
}
